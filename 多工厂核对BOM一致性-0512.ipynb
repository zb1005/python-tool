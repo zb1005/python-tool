{
 "cells": [
  {
   "cell_type": "code",
   "execution_count": 1,
   "id": "initial_id",
   "metadata": {
    "ExecuteTime": {
     "end_time": "2025-02-26T11:01:01.160092Z",
     "start_time": "2025-02-26T11:01:01.147228Z"
    },
    "collapsed": true
   },
   "outputs": [],
   "source": [
    "import pandas as pd\n",
    "import openpyxl\n",
    "from IPython.display import display\n",
    "import xlsxwriter\n",
    "import numpy as np"
   ]
  },
  {
   "cell_type": "code",
   "execution_count": 2,
   "id": "77ed440abf090596",
   "metadata": {
    "ExecuteTime": {
     "end_time": "2025-02-26T02:58:55.898684Z",
     "start_time": "2025-02-26T02:58:04.577595Z"
    }
   },
   "outputs": [],
   "source": [
    "df = pd.read_excel(r\"C:\\Users\\zhangbon\\Desktop\\temp\\PLM-MBOM全量导出 - 20250430-匹配增量数据.xlsx\")\n"
   ]
  },
  {
   "cell_type": "code",
   "execution_count": 3,
   "id": "6b2933db7620dc0f",
   "metadata": {
    "ExecuteTime": {
     "end_time": "2025-02-26T02:58:55.998451Z",
     "start_time": "2025-02-26T02:58:55.990907Z"
    }
   },
   "outputs": [
    {
     "data": {
      "text/plain": [
       "元数据标准名称                object\n",
       "工厂                      int64\n",
       "父级物料编码                 object\n",
       "项目号                     int64\n",
       "子级物料编码                 object\n",
       "计数器                   float64\n",
       "更改号自                   object\n",
       "更改号至                   object\n",
       "物料供应标识                 object\n",
       "单位                     object\n",
       "数量                    float64\n",
       "生产仓储地点                float64\n",
       "有效期自           datetime64[ns]\n",
       "有效期至                   object\n",
       "Unnamed: 14            object\n",
       "备注1                    object\n",
       "备注2                    object\n",
       "dtype: object"
      ]
     },
     "execution_count": 3,
     "metadata": {},
     "output_type": "execute_result"
    }
   ],
   "source": [
    "df.dtypes"
   ]
  },
  {
   "cell_type": "code",
   "execution_count": 4,
   "id": "50ff33657e0a2a54",
   "metadata": {
    "ExecuteTime": {
     "end_time": "2025-02-26T02:59:01.816016Z",
     "start_time": "2025-02-26T02:58:56.045430Z"
    }
   },
   "outputs": [
    {
     "name": "stdout",
     "output_type": "stream",
     "text": [
      "转换完成\n",
      "\n",
      "转换后的前几行数据：\n",
      "         有效期自        有效期至\n",
      "0  2018/05/27  9999/12/31\n",
      "1  2018/05/27  9999/12/31\n",
      "2  2018/05/27  9999/12/31\n",
      "3  2018/05/27  9999/12/31\n",
      "4  2018/05/27  9999/12/31\n"
     ]
    }
   ],
   "source": [
    "# 先将字段转换为字符串\n",
    "df['有效期自'] = df['有效期自'].astype(str)\n",
    "df['有效期至'] = df['有效期至'].astype(str)\n",
    "\n",
    "# 处理9999年的特殊情况\n",
    "df.loc[df['有效期自'].str.contains('9999'), '有效期自'] = '9999/12/31'\n",
    "df.loc[df['有效期至'].str.contains('9999'), '有效期至'] = '9999/12/31'\n",
    "\n",
    "# 转换其他日期\n",
    "df.loc[~df['有效期自'].str.contains('9999'), '有效期自'] = pd.to_datetime(\n",
    "    df.loc[~df['有效期自'].str.contains('9999'), '有效期自']\n",
    ").dt.strftime('%Y/%m/%d')\n",
    "\n",
    "df.loc[~df['有效期至'].str.contains('9999'), '有效期至'] = pd.to_datetime(\n",
    "    df.loc[~df['有效期至'].str.contains('9999'), '有效期至']\n",
    ").dt.strftime('%Y/%m/%d')\n",
    "\n",
    "print('转换完成')\n",
    "\n",
    "# 检查结果\n",
    "print(\"\\n转换后的前几行数据：\")\n",
    "print(df[['有效期自', '有效期至']].head())"
   ]
  },
  {
   "cell_type": "code",
   "execution_count": 5,
   "id": "7122136ef9b4010d",
   "metadata": {
    "ExecuteTime": {
     "end_time": "2025-02-26T03:03:14.428189Z",
     "start_time": "2025-02-26T02:59:01.841792Z"
    }
   },
   "outputs": [
    {
     "name": "stdout",
     "output_type": "stream",
     "text": [
      "状态标记统计：\n",
      "状态标记\n",
      "现在生效    482196\n",
      "未来生效     12069\n",
      "Name: count, dtype: int64\n",
      "\n",
      "示例数据：\n",
      "         有效期自        有效期至  状态标记\n",
      "0  2018/05/27  9999/12/31  现在生效\n",
      "1  2018/05/27  9999/12/31  现在生效\n",
      "2  2018/05/27  9999/12/31  现在生效\n",
      "3  2018/05/27  9999/12/31  现在生效\n",
      "4  2018/05/27  9999/12/31  现在生效\n",
      "5  2016/10/11  9999/12/31  现在生效\n",
      "6  2016/10/11  9999/12/31  现在生效\n",
      "7  2016/10/11  9999/12/31  现在生效\n",
      "8  2016/10/11  9999/12/31  现在生效\n",
      "9  2025/02/20  9999/12/31  现在生效\n"
     ]
    }
   ],
   "source": [
    "import datetime\n",
    "\n",
    "# 获取当前日期\n",
    "current_date = datetime.datetime.now().strftime('%Y/%m/%d')\n",
    "current_date_dt = pd.to_datetime(current_date)\n",
    "\n",
    "# 创建状态标记列\n",
    "df['状态标记'] = '已失效'  # 默认状态\n",
    "\n",
    "# 处理9999年的特殊情况\n",
    "max_date = pd.Timestamp.max  # pandas支持的最大日期\n",
    "\n",
    "# 将日期转换为datetime进行比较，特殊处理9999年\n",
    "def convert_to_datetime(date_str):\n",
    "    if '9999' in str(date_str):\n",
    "        return max_date\n",
    "    return pd.to_datetime(date_str)\n",
    "\n",
    "# 安全转换日期\n",
    "df['有效期自_dt'] = df['有效期自'].apply(convert_to_datetime)\n",
    "df['有效期至_dt'] = df['有效期至'].apply(convert_to_datetime)\n",
    "\n",
    "# 标记状态\n",
    "df.loc[(df['有效期自_dt'] <= current_date_dt) & (df['有效期至_dt'] >= current_date_dt), '状态标记'] = '现在生效'\n",
    "df.loc[df['有效期自_dt'] > current_date_dt, '状态标记'] = '未来生效'\n",
    "\n",
    "# 删除临时的datetime列\n",
    "df = df.drop(['有效期自_dt', '有效期至_dt'], axis=1)\n",
    "\n",
    "# 显示结果统计\n",
    "print(\"状态标记统计：\")\n",
    "print(df['状态标记'].value_counts())\n",
    "\n",
    "# 显示部分示例数据\n",
    "print(\"\\n示例数据：\")\n",
    "print(df[['有效期自', '有效期至', '状态标记']].head(10))"
   ]
  },
  {
   "cell_type": "code",
   "execution_count": 6,
   "id": "ef59945f3302dc5f",
   "metadata": {
    "ExecuteTime": {
     "end_time": "2025-02-26T03:03:14.575954Z",
     "start_time": "2025-02-26T03:03:14.470205Z"
    }
   },
   "outputs": [],
   "source": [
    "#筛选出生效和未来生效的\n",
    "df_valid = df[df['状态标记'].isin(['现在生效', '未来生效'])]\n",
    "\n",
    "# # 保存结果到Excel\n",
    "# df_valid.to_excel(r\"C:\\Users\\zhangbon\\Desktop\\临时活\\MBOM\\PLM-MBOM全量导出现在和未来.xlsx\", sheet_name='Sheet1', index=False)\n"
   ]
  },
  {
   "cell_type": "code",
   "execution_count": 7,
   "id": "1703aea5774320da",
   "metadata": {
    "ExecuteTime": {
     "end_time": "2025-02-26T03:03:16.223855Z",
     "start_time": "2025-02-26T03:03:14.637502Z"
    }
   },
   "outputs": [],
   "source": [
    "# #导入用于筛选是否冻结的物料的文件\n",
    "# df_freeze = pd.read_excel(r\"C:\\Users\\PC\\Desktop\\temp\\用于筛选BOM父级是否冻结.xlsx\")"
   ]
  },
  {
   "cell_type": "code",
   "execution_count": 8,
   "id": "4007ea24c71e9d43",
   "metadata": {
    "ExecuteTime": {
     "end_time": "2025-02-26T03:03:16.253664Z",
     "start_time": "2025-02-26T03:03:16.244738Z"
    }
   },
   "outputs": [],
   "source": [
    "# df_freeze"
   ]
  },
  {
   "cell_type": "code",
   "execution_count": 9,
   "id": "fbb148b0ebc582d1",
   "metadata": {
    "ExecuteTime": {
     "end_time": "2025-02-26T03:03:16.367900Z",
     "start_time": "2025-02-26T03:03:16.271717Z"
    }
   },
   "outputs": [],
   "source": [
    "# #筛选出df_freeze当中已经被冻结的物料 \n",
    "# df_freeze_ = df_freeze[df_freeze['是否冻结'] == '已冻结']\n",
    "# #在df_valid中筛选出未冻结的物料\n",
    "# df_valid_not_freeze = df_valid[~df_valid['父级物料编码'].isin(df_freeze_['物料编码'])]\n",
    "df_valid_not_freeze = df_valid.fillna(' ')"
   ]
  },
  {
   "cell_type": "code",
   "execution_count": null,
   "id": "f257a533ee2aa399",
   "metadata": {
    "ExecuteTime": {
     "end_time": "2025-02-26T03:03:16.409939Z",
     "start_time": "2025-02-26T03:03:16.406027Z"
    }
   },
   "outputs": [],
   "source": []
  },
  {
   "cell_type": "code",
   "execution_count": 10,
   "id": "2ca0dc059bb326de",
   "metadata": {
    "ExecuteTime": {
     "end_time": "2025-02-26T03:03:16.494818Z",
     "start_time": "2025-02-26T03:03:16.470989Z"
    }
   },
   "outputs": [],
   "source": [
    "# df_valid_not_freeze"
   ]
  },
  {
   "cell_type": "code",
   "execution_count": 11,
   "id": "6e1358cb1f3683e6",
   "metadata": {
    "ExecuteTime": {
     "end_time": "2025-02-26T03:04:02.550218Z",
     "start_time": "2025-02-26T03:04:02.167095Z"
    }
   },
   "outputs": [],
   "source": [
    "# df_valid_not_freeze.dtypes\n",
    "# df_valid_not_freeze['物料供应标识']=df_valid_not_freeze['物料供应标识'].fillna('')\n",
    "# #筛选出备注为Make的数据\n",
    "# df_valid_not_freeze = df_valid_not_freeze[df_valid_not_freeze['备注'] == 'Make']\n",
    "# len(df_valid_not_freeze)\n",
    "# df_valid_not_freeze.columns"
   ]
  },
  {
   "cell_type": "code",
   "execution_count": 12,
   "id": "306f263987eefc11",
   "metadata": {
    "ExecuteTime": {
     "end_time": "2025-02-26T03:03:42.469461Z",
     "start_time": "2025-02-26T03:03:42.457709Z"
    }
   },
   "outputs": [
    {
     "name": "stdout",
     "output_type": "stream",
     "text": [
      "差异统计：\n",
      "存在差异的记录总数: 34380\n",
      "子级物料不同的记录数: 1543\n",
      "项目号不同的记录数: 560\n",
      "单位不同的记录数: 0\n",
      "数量不同的记录数: 242\n",
      "物料供应标识不同的记录数: 32057\n",
      "状态标记不同的记录数: 150\n",
      "\n",
      "示例数据（包含差异的记录）：\n",
      "        工厂         父级物料编码         子级物料编码   项目号  单位     数量 物料供应标识  状态标记  \\\n",
      "1610  1005  1101000503720  1506060100002     2  KG  0.325         现在生效   \n",
      "1613  1001  1101000503720  1506060300503  5001  KG  0.300         现在生效   \n",
      "1655  1003  1109000902050  1109000902520    48  PC  1.000         现在生效   \n",
      "1668  1003  1109000902050  1109000902370    51  PC  2.000         现在生效   \n",
      "1671  1003  1109000902050  1504010200012    40  PC  2.000         现在生效   \n",
      "\n",
      "      是否存在差异            差异说明  差异工厂  \n",
      "1610    True  工厂1001未找到该子级物料  1001  \n",
      "1613    True  工厂1005未找到该子级物料  1005  \n",
      "1655    True  工厂1002未找到该子级物料  1002  \n",
      "1668    True  工厂1002未找到该子级物料  1002  \n",
      "1671    True    工厂1002数量为4.0  1002  \n"
     ]
    }
   ],
   "source": [
    "# 首先创建一个明确的副本\n",
    "df_valid_not_freeze = df_valid_not_freeze.copy()\n",
    "\n",
    "# 创建一个字典来存储每个父级物料编码在不同工厂的数据\n",
    "comparison_dict = {}\n",
    "\n",
    "# 遍历数据，建立比较基础\n",
    "for _, row in df_valid_not_freeze.iterrows():\n",
    "    parent = row['父级物料编码']\n",
    "    factory = row['工厂']\n",
    "    if parent not in comparison_dict:\n",
    "        comparison_dict[parent] = {}\n",
    "    if factory not in comparison_dict[parent]:\n",
    "        comparison_dict[parent][factory] = []\n",
    "    comparison_dict[parent][factory].append({\n",
    "        '子级物料编码': row['子级物料编码'],\n",
    "        '项目号': row['项目号'],\n",
    "        '单位': row['单位'],\n",
    "        '数量': row['数量'],\n",
    "        '物料供应标识': row['物料供应标识'],\n",
    "        '状态标记': row['状态标记']\n",
    "    })\n",
    "\n",
    "# 创建新的标记列\n",
    "df_valid_not_freeze.loc[:, '子级物料不同'] = False\n",
    "df_valid_not_freeze.loc[:, '项目号不同'] = False\n",
    "df_valid_not_freeze.loc[:, '单位不同'] = False\n",
    "df_valid_not_freeze.loc[:, '数量不同'] = False\n",
    "df_valid_not_freeze.loc[:, '物料供应标识不同'] = False\n",
    "df_valid_not_freeze.loc[:, '状态标记不同'] = False\n",
    "df_valid_not_freeze.loc[:, '差异工厂'] = ''\n",
    "df_valid_not_freeze.loc[:, '差异说明'] = ''  # 新增差异说明列\n",
    "\n",
    "# 比较并标记差异\n",
    "for idx, row in df_valid_not_freeze.iterrows():\n",
    "    parent = row['父级物料编码']\n",
    "    current_factory = row['工厂']\n",
    "    \n",
    "    if len(comparison_dict[parent]) <= 1:\n",
    "        continue\n",
    "    \n",
    "    different_factories = []\n",
    "    differences = []  # 用于收集差异说明\n",
    "    \n",
    "    for other_factory, other_data in comparison_dict[parent].items():\n",
    "        if other_factory != current_factory:\n",
    "            current_child = {\n",
    "                '子级物料编码': row['子级物料编码'],\n",
    "                '项目号': row['项目号'],\n",
    "                '单位': row['单位'],\n",
    "                '数量': row['数量'],\n",
    "                '物料供应标识': row['物料供应标识'],\n",
    "                '状态标记': row['状态标记']\n",
    "            }\n",
    "            \n",
    "            found_match = False\n",
    "            for other_item in other_data:\n",
    "                if other_item['子级物料编码'] == current_child['子级物料编码']:\n",
    "                    found_match = True\n",
    "                    if other_item['项目号'] != current_child['项目号']:\n",
    "                        df_valid_not_freeze.loc[idx, '项目号不同'] = True\n",
    "                        differences.append(f\"工厂{other_factory}项目号为{other_item['项目号']}\")\n",
    "                    if other_item['单位'] != current_child['单位']:\n",
    "                        df_valid_not_freeze.loc[idx, '单位不同'] = True\n",
    "                        differences.append(f\"工厂{other_factory}单位为{other_item['单位']}\")\n",
    "                    if other_item['数量'] != current_child['数量']:\n",
    "                        df_valid_not_freeze.loc[idx, '数量不同'] = True\n",
    "                        differences.append(f\"工厂{other_factory}数量为{other_item['数量']}\")\n",
    "                    if other_item['物料供应标识'] != current_child['物料供应标识']:\n",
    "                        df_valid_not_freeze.loc[idx, '物料供应标识不同'] = True\n",
    "                        differences.append(f\"工厂{other_factory}物料供应标识为{other_item['物料供应标识']}\")\n",
    "                    if other_item['状态标记'] != current_child['状态标记']:\n",
    "                        df_valid_not_freeze.loc[idx, '状态标记不同'] = True\n",
    "                        differences.append(f\"工厂{other_factory}状态标记为{other_item['状态标记']}\")\n",
    "                    if other_factory not in different_factories:\n",
    "                        different_factories.append(str(other_factory))\n",
    "            \n",
    "            if not found_match:\n",
    "                df_valid_not_freeze.loc[idx, '子级物料不同'] = True\n",
    "                differences.append(f\"工厂{other_factory}未找到该子级物料\")\n",
    "                if other_factory not in different_factories:\n",
    "                    different_factories.append(str(other_factory))\n",
    "    \n",
    "    if different_factories:\n",
    "        df_valid_not_freeze.loc[idx, '差异工厂'] = ','.join(different_factories)\n",
    "        df_valid_not_freeze.loc[idx, '差异说明'] = '; '.join(differences)  # 合并所有差异说明\n",
    "\n",
    "# 添加一个\"是否存在差异\"列\n",
    "df_valid_not_freeze.loc[:, '是否存在差异'] = (\n",
    "    df_valid_not_freeze['子级物料不同'] |\n",
    "    df_valid_not_freeze['项目号不同'] |\n",
    "    df_valid_not_freeze['单位不同'] |\n",
    "    df_valid_not_freeze['数量不同'] |\n",
    "    df_valid_not_freeze['物料供应标识不同'] |\n",
    "    df_valid_not_freeze['状态标记不同']\n",
    ")\n",
    "\n",
    "# 显示有差异的记录\n",
    "print(\"差异统计：\")\n",
    "print(\"存在差异的记录总数:\", df_valid_not_freeze['是否存在差异'].sum())\n",
    "print(\"子级物料不同的记录数:\", df_valid_not_freeze['子级物料不同'].sum())\n",
    "print(\"项目号不同的记录数:\", df_valid_not_freeze['项目号不同'].sum())\n",
    "print(\"单位不同的记录数:\", df_valid_not_freeze['单位不同'].sum())\n",
    "print(\"数量不同的记录数:\", df_valid_not_freeze['数量不同'].sum())\n",
    "print(\"物料供应标识不同的记录数:\", df_valid_not_freeze['物料供应标识不同'].sum())\n",
    "print(\"状态标记不同的记录数:\", df_valid_not_freeze['状态标记不同'].sum())\n",
    "\n",
    "# 显示部分示例数据\n",
    "print(\"\\n示例数据（包含差异的记录）：\")\n",
    "columns_to_show = ['工厂', '父级物料编码', '子级物料编码', '项目号', '单位', '数量', '物料供应标识', '状态标记',\n",
    "                   '是否存在差异', '差异说明', '差异工厂']\n",
    "print(df_valid_not_freeze[df_valid_not_freeze['是否存在差异']][columns_to_show].head())\n",
    "\n",
    "# 保存结果到Excel文件\n",
    "df_valid_not_freeze.to_excel(r\"C:\\Users\\zhangbon\\Desktop\\temp\\BOM差异对比结果.xlsx\", index=False)"
   ]
  }
 ],
 "metadata": {
  "kernelspec": {
   "display_name": "base",
   "language": "python",
   "name": "python3"
  },
  "language_info": {
   "codemirror_mode": {
    "name": "ipython",
    "version": 3
   },
   "file_extension": ".py",
   "mimetype": "text/x-python",
   "name": "python",
   "nbconvert_exporter": "python",
   "pygments_lexer": "ipython3",
   "version": "3.12.7"
  }
 },
 "nbformat": 4,
 "nbformat_minor": 5
}
